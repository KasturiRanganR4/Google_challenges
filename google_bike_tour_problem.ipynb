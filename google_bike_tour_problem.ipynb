{
 "cells": [
  {
   "cell_type": "code",
   "execution_count": 29,
   "metadata": {},
   "outputs": [
    {
     "data": {
      "text/plain": [
       "\"\\nProblem\\nLi has planned a bike tour through the mountains of Switzerland. His tour consists of N checkpoints, numbered from 1 to N in the order he will visit them. The i-th checkpoint has a height of Hi.\\n\\nA checkpoint is a peak if:\\nIt is not the 1st checkpoint or the N-th checkpoint, and\\nThe height of the checkpoint is strictly greater than the checkpoint immediately before it and the checkpoint immediately after it.\\n\\nPlease help Li find out the number of peaks.\\n\\nInput\\nThe first line of the input gives the number of test cases, T. T test cases follow. Each test case begins with a line containing the integer N. The second line contains N integers. The i-th integer is Hi.\\n\\nOutput\\nFor each test case, output one line containing Case #x: y, where x is the test case number (starting from 1) and y is the number of peaks in Li's bike tour.\\n\\nLimits\\nTime limit: 10 seconds per test set.\\nMemory limit: 1GB.\\n1 ≤ T ≤ 100.\\n1 ≤ Hi ≤ 100.\\n\\nTest set 1\\n3 ≤ N ≤ 5.\\n\\nTest set 2\\n3 ≤ N ≤ 100.\\n\\nSample\\n\\nInput\\n \\t\\nOutput\\n \\n4\\n3\\n10 20 14\\n4\\n7 7 7 7\\n5\\n10 90 20 90 10\\n3\\n10 3 10\\n\\n  \\nCase #1: 1\\nCase #2: 0\\nCase #3: 2\\nCase #4: 0\\n\\n  \\nIn sample case #1, the 2nd checkpoint is a peak.\\nIn sample case #2, there are no peaks.\\nIn sample case #3, the 2nd and 4th checkpoint are peaks.\\nIn sample case #4, there are no peaks.\\n\""
      ]
     },
     "execution_count": 29,
     "metadata": {},
     "output_type": "execute_result"
    }
   ],
   "source": [
    "# Google coding challenge practice...\n",
    "\"\"\"\n",
    "Problem\n",
    "Li has planned a bike tour through the mountains of Switzerland. His tour consists of N checkpoints, numbered from 1 to N in the order he will visit them. The i-th checkpoint has a height of Hi.\n",
    "\n",
    "A checkpoint is a peak if:\n",
    "It is not the 1st checkpoint or the N-th checkpoint, and\n",
    "The height of the checkpoint is strictly greater than the checkpoint immediately before it and the checkpoint immediately after it.\n",
    "\n",
    "Please help Li find out the number of peaks.\n",
    "\n",
    "Input\n",
    "The first line of the input gives the number of test cases, T. T test cases follow. Each test case begins with a line containing the integer N. The second line contains N integers. The i-th integer is Hi.\n",
    "\n",
    "Output\n",
    "For each test case, output one line containing Case #x: y, where x is the test case number (starting from 1) and y is the number of peaks in Li's bike tour.\n",
    "\n",
    "Limits\n",
    "Time limit: 10 seconds per test set.\n",
    "Memory limit: 1GB.\n",
    "1 ≤ T ≤ 100.\n",
    "1 ≤ Hi ≤ 100.\n",
    "\n",
    "Test set 1\n",
    "3 ≤ N ≤ 5.\n",
    "\n",
    "Test set 2\n",
    "3 ≤ N ≤ 100.\n",
    "\n",
    "Sample\n",
    "\n",
    "Input\n",
    " \n",
    "4\n",
    "3\n",
    "10 20 14\n",
    "4\n",
    "7 7 7 7\n",
    "5\n",
    "10 90 20 90 10\n",
    "3\n",
    "10 3 10\n",
    "\n",
    "Output\n",
    "\n",
    "Case #1: 1\n",
    "Case #2: 0\n",
    "Case #3: 2\n",
    "Case #4: 0\n",
    "\n",
    "  \n",
    "In sample case #1, the 2nd checkpoint is a peak.\n",
    "In sample case #2, there are no peaks.\n",
    "In sample case #3, the 2nd and 4th checkpoint are peaks.\n",
    "In sample case #4, there are no peaks.\n",
    "\"\"\""
   ]
  },
  {
   "cell_type": "code",
   "execution_count": 30,
   "metadata": {},
   "outputs": [
    {
     "name": "stdin",
     "output_type": "stream",
     "text": [
      "enter number of test cases:  4\n",
      "enter the checkpoints:  3\n",
      " 10\n",
      " 20\n",
      " 14\n"
     ]
    },
    {
     "name": "stdout",
     "output_type": "stream",
     "text": [
      "case # 1 : 1\n"
     ]
    },
    {
     "name": "stdin",
     "output_type": "stream",
     "text": [
      "enter the checkpoints:  4\n",
      " 7\n",
      " 7\n",
      " 7\n",
      " 7\n"
     ]
    },
    {
     "name": "stdout",
     "output_type": "stream",
     "text": [
      "case # 2 : 0\n"
     ]
    },
    {
     "name": "stdin",
     "output_type": "stream",
     "text": [
      "enter the checkpoints:  5\n",
      " 10\n",
      " 90\n",
      " 20\n",
      " 90\n",
      " 10\n"
     ]
    },
    {
     "name": "stdout",
     "output_type": "stream",
     "text": [
      "case # 3 : 2\n"
     ]
    },
    {
     "name": "stdin",
     "output_type": "stream",
     "text": [
      "enter the checkpoints:  3\n",
      " 10\n",
      " 3\n",
      " 10\n"
     ]
    },
    {
     "name": "stdout",
     "output_type": "stream",
     "text": [
      "case # 4 : 0\n"
     ]
    }
   ],
   "source": [
    "################################# SOLUTION ##########################################################\n",
    "\n",
    "# take inputs from user \n",
    "\n",
    "test_cases = int(input(\"enter number of test cases: \"))\n",
    "\n",
    "if((test_cases>=3) and (test_cases<=5)):\n",
    "    for i in range(0, test_cases):\n",
    "        total_checkpoints = int(input(\"enter the checkpoints: \"))\n",
    "        checklist=[]\n",
    "        count = 0\n",
    "        total_spikes = 0\n",
    "        if((total_checkpoints>=3) and (total_checkpoints<=100)):\n",
    "            for j in range(0, total_checkpoints):\n",
    "                ele = int(input())\n",
    "                checklist.append(ele)  \n",
    "           \n",
    "            for k in range(len(checklist)):\n",
    "                #print(len(checklist))\n",
    "                if((count != 0) and (count != (len(checklist))-1)):\n",
    "                    #print(checklist[k-1])\n",
    "                    if((checklist[k-1] < checklist[k]) and (checklist[k+1] < checklist[k])):\n",
    "                        total_spikes +=1\n",
    "                        count +=1\n",
    "                    else:\n",
    "                        count +=1\n",
    "                        continue    \n",
    "                else:\n",
    "                    count +=1\n",
    "                    #print(count)\n",
    "                    continue\n",
    "            print(\"case # %d : %d\" % (i+1, total_spikes))\n",
    "        else:\n",
    "            print(\"checkpoint range should be 3 to 100\")\n",
    "            break\n",
    "else:\n",
    "    print(\"next time...enter testcases within range 3 to 5\")"
   ]
  },
  {
   "cell_type": "code",
   "execution_count": null,
   "metadata": {},
   "outputs": [],
   "source": []
  }
 ],
 "metadata": {
  "kernelspec": {
   "display_name": "Python 3",
   "language": "python",
   "name": "python3"
  },
  "language_info": {
   "codemirror_mode": {
    "name": "ipython",
    "version": 3
   },
   "file_extension": ".py",
   "mimetype": "text/x-python",
   "name": "python",
   "nbconvert_exporter": "python",
   "pygments_lexer": "ipython3",
   "version": "3.7.7"
  }
 },
 "nbformat": 4,
 "nbformat_minor": 4
}
